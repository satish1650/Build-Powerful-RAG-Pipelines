{
 "cells": [
  {
   "cell_type": "markdown",
   "id": "1c6643b9",
   "metadata": {},
   "source": []
  },
  {
   "cell_type": "markdown",
   "id": "4d2901ba",
   "metadata": {},
   "source": [
    "---\n",
    "# Parsing CSV And Excel Files\n",
    "\n",
    "---"
   ]
  },
  {
   "cell_type": "markdown",
   "id": "6d4796bd",
   "metadata": {},
   "source": [
    "## CSV And Excel Files - Structured Data\n",
    "\n",
    "---"
   ]
  },
  {
   "cell_type": "code",
   "execution_count": 1,
   "id": "ab2ac5b8",
   "metadata": {},
   "outputs": [],
   "source": [
    "import pandas as pandas\n",
    "import os"
   ]
  },
  {
   "cell_type": "code",
   "execution_count": 2,
   "id": "a173cd4a",
   "metadata": {},
   "outputs": [],
   "source": [
    "os.makedirs(\"data/structured_files\", exist_ok=True)"
   ]
  },
  {
   "cell_type": "code",
   "execution_count": 5,
   "id": "4145d08b",
   "metadata": {},
   "outputs": [
    {
     "data": {
      "text/plain": [
       "{'Product': ['Laptop', 'Mouse', 'Keyboard', 'Monitor', 'Webcam'],\n",
       " 'Category': ['Electronics',\n",
       "  'Accessories',\n",
       "  'Accessories',\n",
       "  'Electronics',\n",
       "  'Electronics'],\n",
       " 'Price': [999.99, 29.99, 79.99, 299.99, 89.99],\n",
       " 'Stock': [50, 200, 150, 75, 100],\n",
       " 'Description': ['High-performance laptop with 16GB RAM and 512GB SSD',\n",
       "  'Wireless optical mouse with ergonomic design',\n",
       "  'Mechanical keyboard with RGB backlighting',\n",
       "  '27-inch 4K monitor with HDR support',\n",
       "  '1080p webcam with noise cancellation']}"
      ]
     },
     "execution_count": 5,
     "metadata": {},
     "output_type": "execute_result"
    }
   ],
   "source": [
    "# Create sample data\n",
    "data = {\n",
    "    'Product': ['Laptop', 'Mouse', 'Keyboard', 'Monitor', 'Webcam'],\n",
    "    'Category': ['Electronics', 'Accessories', 'Accessories', 'Electronics', 'Electronics'],\n",
    "    'Price': [999.99, 29.99, 79.99, 299.99, 89.99],\n",
    "    'Stock': [50, 200, 150, 75, 100],\n",
    "    'Description': [\n",
    "        'High-performance laptop with 16GB RAM and 512GB SSD',\n",
    "        'Wireless optical mouse with ergonomic design',\n",
    "        'Mechanical keyboard with RGB backlighting',\n",
    "        '27-inch 4K monitor with HDR support',\n",
    "        '1080p webcam with noise cancellation'\n",
    "    ]\n",
    "}\n",
    "data"
   ]
  },
  {
   "cell_type": "markdown",
   "id": "290aa37b",
   "metadata": {},
   "source": []
  }
 ],
 "metadata": {
  "kernelspec": {
   "display_name": "RAG Pipelines",
   "language": "python",
   "name": "python3"
  },
  "language_info": {
   "codemirror_mode": {
    "name": "ipython",
    "version": 3
   },
   "file_extension": ".py",
   "mimetype": "text/x-python",
   "name": "python",
   "nbconvert_exporter": "python",
   "pygments_lexer": "ipython3",
   "version": "3.13.2"
  }
 },
 "nbformat": 4,
 "nbformat_minor": 5
}
