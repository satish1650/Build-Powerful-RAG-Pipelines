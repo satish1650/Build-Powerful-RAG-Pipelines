{
 "cells": [
  {
   "cell_type": "markdown",
   "id": "82f7d4a3",
   "metadata": {},
   "source": [
    "---\n",
    "## Ingestion And Data Parsing for Word Document\n",
    "---"
   ]
  },
  {
   "cell_type": "code",
   "execution_count": 1,
   "id": "e8aadee1",
   "metadata": {},
   "outputs": [],
   "source": [
    "from langchain_community.document_loaders import Docx2txtLoader, UnstructuredWordDocumentLoader"
   ]
  },
  {
   "cell_type": "markdown",
   "id": "f1a19be5",
   "metadata": {},
   "source": [
    "---\n",
    "## Method1: Using Docx2txtLoader 👉 [Click Here](https://python.langchain.com/api_reference/community/document_loaders/langchain_community.document_loaders.word_document.Docx2txtLoader.html)\n",
    "---"
   ]
  },
  {
   "cell_type": "code",
   "execution_count": 2,
   "id": "797d755c",
   "metadata": {},
   "outputs": [
    {
     "name": "stdout",
     "output_type": "stream",
     "text": [
      "1️⃣ Using Docx2txtLoader\n",
      "✅ Loaded 1 document(s)\n",
      "Content preview: Project Proposal: RAG Implementation\n",
      "\n",
      "Executive Summary\n",
      "\n",
      "This proposal outlines the implementation of a Retrieval-Augmented Generation system for our organization.\n",
      "\n",
      "Objectives\n",
      "\n",
      "Key objectives include:...\n",
      "Metadata: {'source': 'data/word_files/proposal.docx'}\n"
     ]
    }
   ],
   "source": [
    "from langchain_community.document_loaders import Docx2txtLoader\n",
    "\n",
    "print(\"1️⃣ Using Docx2txtLoader\")\n",
    "\n",
    "try:\n",
    "    docx_loader = Docx2txtLoader(\"data/word_files/proposal.docx\")\n",
    "    docs = docx_loader.load()\n",
    "    print(f\"✅ Loaded {len(docs)} document(s)\")\n",
    "    print(f\"Content preview: {docs[0].page_content[:200]}...\")\n",
    "    print(f\"Metadata: {docs[0].metadata}\")\n",
    "\n",
    "except Exception as ex:\n",
    "    print(f\"Error: {ex}\")"
   ]
  },
  {
   "cell_type": "markdown",
   "id": "dd64a9c3",
   "metadata": {},
   "source": []
  },
  {
   "cell_type": "markdown",
   "id": "ec4d84b2",
   "metadata": {},
   "source": [
    "---\n",
    "## Method2: Using UnstructuredWordDocumentLoader 👉 [Click Here](https://python.langchain.com/api_reference/community/document_loaders/langchain_community.document_loaders.word_document.UnstructuredWordDocumentLoader.html)\n",
    "---"
   ]
  },
  {
   "cell_type": "code",
   "execution_count": 7,
   "id": "cd0cdc5d",
   "metadata": {},
   "outputs": [
    {
     "name": "stdout",
     "output_type": "stream",
     "text": [
      "\n",
      "2️⃣ Using UnstructuredWordDocumentLoader\n",
      "✅ Loaded 20 elements\n",
      "\n",
      "Element 1:\n",
      "Type: Title\n",
      "Content: Project Proposal: RAG Implementation...\n",
      "\n",
      "Element 2:\n",
      "Type: Title\n",
      "Content: Executive Summary...\n",
      "\n",
      "Element 3:\n",
      "Type: NarrativeText\n",
      "Content: This proposal outlines the implementation of a Retrieval-Augmented Generation system for our organiz...\n"
     ]
    }
   ],
   "source": [
    "from langchain_community.document_loaders import UnstructuredWordDocumentLoader\n",
    "\n",
    "print(\"\\n2️⃣ Using UnstructuredWordDocumentLoader\")\n",
    "\n",
    "try:\n",
    "    unstructured_loader = UnstructuredWordDocumentLoader(\"data/word_files/proposal.docx\", mode=\"elements\")\n",
    "    unstructured_docs = unstructured_loader.load()\n",
    "    print(f\"✅ Loaded {len(unstructured_docs)} elements\")\n",
    "    for i, docs in enumerate(unstructured_docs[:3]):\n",
    "        print(f\"\\nElement {i+1}:\")\n",
    "        print(f\"Type: {docs.metadata.get('category', 'unknown')}\")\n",
    "        print(f\"Content: {docs.page_content[:100]}...\")\n",
    "\n",
    "except Exception as ex:\n",
    "    print(f\"Error: {ex}\")"
   ]
  },
  {
   "cell_type": "markdown",
   "id": "09f3ab66",
   "metadata": {},
   "source": [
    "-----"
   ]
  },
  {
   "cell_type": "code",
   "execution_count": 8,
   "id": "1460ec86",
   "metadata": {},
   "outputs": [
    {
     "data": {
      "text/plain": [
       "Document(metadata={'source': 'data/word_files/proposal.docx', 'category_depth': 0, 'file_directory': 'data/word_files', 'filename': 'proposal.docx', 'last_modified': '2025-09-02T14:04:22', 'languages': ['eng'], 'filetype': 'application/vnd.openxmlformats-officedocument.wordprocessingml.document', 'category': 'Title', 'element_id': 'bb0410bfd160ef866f8d4357b0949db2'}, page_content='Project Proposal: RAG Implementation')"
      ]
     },
     "execution_count": 8,
     "metadata": {},
     "output_type": "execute_result"
    }
   ],
   "source": [
    "unstructured_docs[0]"
   ]
  },
  {
   "cell_type": "code",
   "execution_count": 10,
   "id": "09ced057",
   "metadata": {},
   "outputs": [
    {
     "data": {
      "text/plain": [
       "{'source': 'data/word_files/proposal.docx',\n",
       " 'category_depth': 0,\n",
       " 'file_directory': 'data/word_files',\n",
       " 'filename': 'proposal.docx',\n",
       " 'last_modified': '2025-09-02T14:04:22',\n",
       " 'languages': ['eng'],\n",
       " 'filetype': 'application/vnd.openxmlformats-officedocument.wordprocessingml.document',\n",
       " 'category': 'Title',\n",
       " 'element_id': 'bb0410bfd160ef866f8d4357b0949db2'}"
      ]
     },
     "execution_count": 10,
     "metadata": {},
     "output_type": "execute_result"
    }
   ],
   "source": [
    "unstructured_docs[0].metadata"
   ]
  },
  {
   "cell_type": "code",
   "execution_count": 9,
   "id": "941ba4e0",
   "metadata": {},
   "outputs": [
    {
     "data": {
      "text/plain": [
       "'Project Proposal: RAG Implementation'"
      ]
     },
     "execution_count": 9,
     "metadata": {},
     "output_type": "execute_result"
    }
   ],
   "source": [
    "unstructured_docs[0].page_content"
   ]
  },
  {
   "cell_type": "code",
   "execution_count": 11,
   "id": "ae20830d",
   "metadata": {},
   "outputs": [
    {
     "data": {
      "text/plain": [
       "Document(metadata={'source': 'data/word_files/proposal.docx', 'category_depth': 0, 'file_directory': 'data/word_files', 'filename': 'proposal.docx', 'last_modified': '2025-09-02T14:04:22', 'languages': ['eng'], 'filetype': 'application/vnd.openxmlformats-officedocument.wordprocessingml.document', 'category': 'Title', 'element_id': 'c0f844859abf08d9506856b3aed4a719'}, page_content='Executive Summary')"
      ]
     },
     "execution_count": 11,
     "metadata": {},
     "output_type": "execute_result"
    }
   ],
   "source": [
    "unstructured_docs[1]"
   ]
  },
  {
   "cell_type": "code",
   "execution_count": 12,
   "id": "8ccc3b39",
   "metadata": {},
   "outputs": [
    {
     "data": {
      "text/plain": [
       "{'source': 'data/word_files/proposal.docx',\n",
       " 'category_depth': 0,\n",
       " 'file_directory': 'data/word_files',\n",
       " 'filename': 'proposal.docx',\n",
       " 'last_modified': '2025-09-02T14:04:22',\n",
       " 'languages': ['eng'],\n",
       " 'filetype': 'application/vnd.openxmlformats-officedocument.wordprocessingml.document',\n",
       " 'category': 'Title',\n",
       " 'element_id': 'c0f844859abf08d9506856b3aed4a719'}"
      ]
     },
     "execution_count": 12,
     "metadata": {},
     "output_type": "execute_result"
    }
   ],
   "source": [
    "unstructured_docs[1].metadata"
   ]
  },
  {
   "cell_type": "code",
   "execution_count": 13,
   "id": "f6ccaf69",
   "metadata": {},
   "outputs": [
    {
     "data": {
      "text/plain": [
       "'Executive Summary'"
      ]
     },
     "execution_count": 13,
     "metadata": {},
     "output_type": "execute_result"
    }
   ],
   "source": [
    "unstructured_docs[1].page_content"
   ]
  },
  {
   "cell_type": "code",
   "execution_count": 14,
   "id": "f5543b7c",
   "metadata": {},
   "outputs": [
    {
     "data": {
      "text/plain": [
       "'Reduce response time for customer queries'"
      ]
     },
     "execution_count": 14,
     "metadata": {},
     "output_type": "execute_result"
    }
   ],
   "source": [
    "unstructured_docs[6].page_content"
   ]
  },
  {
   "cell_type": "markdown",
   "id": "a56b0823",
   "metadata": {},
   "source": [
    "---"
   ]
  },
  {
   "cell_type": "markdown",
   "id": "30d19528",
   "metadata": {},
   "source": []
  },
  {
   "cell_type": "code",
   "execution_count": 15,
   "id": "cef534f3",
   "metadata": {},
   "outputs": [
    {
     "data": {
      "text/plain": [
       "[Document(metadata={'source': 'data/word_files/proposal.docx', 'category_depth': 0, 'file_directory': 'data/word_files', 'filename': 'proposal.docx', 'last_modified': '2025-09-02T14:04:22', 'languages': ['eng'], 'filetype': 'application/vnd.openxmlformats-officedocument.wordprocessingml.document', 'category': 'Title', 'element_id': 'bb0410bfd160ef866f8d4357b0949db2'}, page_content='Project Proposal: RAG Implementation'),\n",
       " Document(metadata={'source': 'data/word_files/proposal.docx', 'category_depth': 0, 'file_directory': 'data/word_files', 'filename': 'proposal.docx', 'last_modified': '2025-09-02T14:04:22', 'languages': ['eng'], 'filetype': 'application/vnd.openxmlformats-officedocument.wordprocessingml.document', 'category': 'Title', 'element_id': 'c0f844859abf08d9506856b3aed4a719'}, page_content='Executive Summary'),\n",
       " Document(metadata={'source': 'data/word_files/proposal.docx', 'category_depth': 0, 'file_directory': 'data/word_files', 'filename': 'proposal.docx', 'last_modified': '2025-09-02T14:04:22', 'languages': ['eng'], 'filetype': 'application/vnd.openxmlformats-officedocument.wordprocessingml.document', 'parent_id': 'c0f844859abf08d9506856b3aed4a719', 'category': 'NarrativeText', 'element_id': 'bbc04fc71e33a92df30d7fe7c33b6375'}, page_content='This proposal outlines the implementation of a Retrieval-Augmented Generation system for our organization.'),\n",
       " Document(metadata={'source': 'data/word_files/proposal.docx', 'category_depth': 0, 'file_directory': 'data/word_files', 'filename': 'proposal.docx', 'last_modified': '2025-09-02T14:04:22', 'languages': ['eng'], 'filetype': 'application/vnd.openxmlformats-officedocument.wordprocessingml.document', 'category': 'Title', 'element_id': 'a2c8ca6c90e23196fcf4be625007bbd6'}, page_content='Objectives'),\n",
       " Document(metadata={'source': 'data/word_files/proposal.docx', 'category_depth': 0, 'file_directory': 'data/word_files', 'filename': 'proposal.docx', 'last_modified': '2025-09-02T14:04:22', 'languages': ['eng'], 'filetype': 'application/vnd.openxmlformats-officedocument.wordprocessingml.document', 'parent_id': 'a2c8ca6c90e23196fcf4be625007bbd6', 'category': 'NarrativeText', 'element_id': '335654d234a93f0eb1e1e6798c633eb7'}, page_content='Key objectives include:'),\n",
       " Document(metadata={'source': 'data/word_files/proposal.docx', 'category_depth': 0, 'file_directory': 'data/word_files', 'filename': 'proposal.docx', 'last_modified': '2025-09-02T14:04:22', 'languages': ['eng'], 'filetype': 'application/vnd.openxmlformats-officedocument.wordprocessingml.document', 'parent_id': 'a2c8ca6c90e23196fcf4be625007bbd6', 'category': 'ListItem', 'element_id': 'a62787f7e487c3715929cc34a512d2df'}, page_content='Improve information retrieval accuracy'),\n",
       " Document(metadata={'source': 'data/word_files/proposal.docx', 'category_depth': 0, 'file_directory': 'data/word_files', 'filename': 'proposal.docx', 'last_modified': '2025-09-02T14:04:22', 'languages': ['eng'], 'filetype': 'application/vnd.openxmlformats-officedocument.wordprocessingml.document', 'parent_id': 'a2c8ca6c90e23196fcf4be625007bbd6', 'category': 'ListItem', 'element_id': '7403c111f034d07762a2ea3f9e77fd55'}, page_content='Reduce response time for customer queries'),\n",
       " Document(metadata={'source': 'data/word_files/proposal.docx', 'category_depth': 0, 'file_directory': 'data/word_files', 'filename': 'proposal.docx', 'last_modified': '2025-09-02T14:04:22', 'languages': ['eng'], 'filetype': 'application/vnd.openxmlformats-officedocument.wordprocessingml.document', 'parent_id': 'a2c8ca6c90e23196fcf4be625007bbd6', 'category': 'ListItem', 'element_id': 'b7a32dbf801712e0cbb4301b40fc1332'}, page_content='Integrate with existing knowledge base'),\n",
       " Document(metadata={'source': 'data/word_files/proposal.docx', 'category_depth': 0, 'file_directory': 'data/word_files', 'filename': 'proposal.docx', 'last_modified': '2025-09-02T14:04:22', 'languages': ['eng'], 'filetype': 'application/vnd.openxmlformats-officedocument.wordprocessingml.document', 'category': 'Title', 'element_id': '03384feebdc9dbc6c3e66f42a31ae4d4'}, page_content='Budget and Timeline'),\n",
       " Document(metadata={'source': 'data/word_files/proposal.docx', 'category_depth': 0, 'file_directory': 'data/word_files', 'filename': 'proposal.docx', 'last_modified': '2025-09-02T14:04:22', 'languages': ['eng'], 'filetype': 'application/vnd.openxmlformats-officedocument.wordprocessingml.document', 'parent_id': '03384feebdc9dbc6c3e66f42a31ae4d4', 'category': 'UncategorizedText', 'element_id': '2b656c76dce795af739297289ec70cb4'}, page_content='Budget: $50,000'),\n",
       " Document(metadata={'source': 'data/word_files/proposal.docx', 'category_depth': 0, 'file_directory': 'data/word_files', 'filename': 'proposal.docx', 'last_modified': '2025-09-02T14:04:22', 'languages': ['eng'], 'filetype': 'application/vnd.openxmlformats-officedocument.wordprocessingml.document', 'parent_id': '03384feebdc9dbc6c3e66f42a31ae4d4', 'category': 'UncategorizedText', 'element_id': '579456f56ae28a18e9113d256cf0c677'}, page_content='Timeline: 3 months'),\n",
       " Document(metadata={'source': 'data/word_files/proposal.docx', 'category_depth': 0, 'file_directory': 'data/word_files', 'filename': 'proposal.docx', 'last_modified': '2025-09-02T14:04:22', 'languages': ['eng'], 'filetype': 'application/vnd.openxmlformats-officedocument.wordprocessingml.document', 'parent_id': '03384feebdc9dbc6c3e66f42a31ae4d4', 'category': 'UncategorizedText', 'element_id': 'cd21a830803498d697e79322b08cb621'}, page_content='Team: 4 developers, 1 project manager'),\n",
       " Document(metadata={'source': 'data/word_files/proposal.docx', 'category_depth': 0, 'file_directory': 'data/word_files', 'filename': 'proposal.docx', 'last_modified': '2025-09-02T14:04:22', 'languages': ['eng'], 'filetype': 'application/vnd.openxmlformats-officedocument.wordprocessingml.document', 'category': 'Title', 'element_id': '79f776a9342d2b31ac42ee74e884601d'}, page_content='Technical Requirements'),\n",
       " Document(metadata={'source': 'data/word_files/proposal.docx', 'category_depth': 0, 'file_directory': 'data/word_files', 'filename': 'proposal.docx', 'last_modified': '2025-09-02T14:04:22', 'languages': ['eng'], 'filetype': 'application/vnd.openxmlformats-officedocument.wordprocessingml.document', 'parent_id': '79f776a9342d2b31ac42ee74e884601d', 'category': 'NarrativeText', 'element_id': 'bd3ed1f0473cc4dc2a91175293045731'}, page_content='Required technologies:'),\n",
       " Document(metadata={'source': 'data/word_files/proposal.docx', 'category_depth': 0, 'file_directory': 'data/word_files', 'filename': 'proposal.docx', 'last_modified': '2025-09-02T14:04:22', 'languages': ['eng'], 'filetype': 'application/vnd.openxmlformats-officedocument.wordprocessingml.document', 'parent_id': '79f776a9342d2b31ac42ee74e884601d', 'category': 'ListItem', 'element_id': 'bd3174066f748a60216ee2b8fec3e3c9'}, page_content='Python 3.8+'),\n",
       " Document(metadata={'source': 'data/word_files/proposal.docx', 'category_depth': 0, 'file_directory': 'data/word_files', 'filename': 'proposal.docx', 'last_modified': '2025-09-02T14:04:22', 'languages': ['eng'], 'filetype': 'application/vnd.openxmlformats-officedocument.wordprocessingml.document', 'parent_id': '79f776a9342d2b31ac42ee74e884601d', 'category': 'ListItem', 'element_id': 'e9c9cf7f0ab0b8741759b94fde3ca1ec'}, page_content='OpenAI API access'),\n",
       " Document(metadata={'source': 'data/word_files/proposal.docx', 'category_depth': 0, 'file_directory': 'data/word_files', 'filename': 'proposal.docx', 'last_modified': '2025-09-02T14:04:22', 'languages': ['eng'], 'filetype': 'application/vnd.openxmlformats-officedocument.wordprocessingml.document', 'parent_id': '79f776a9342d2b31ac42ee74e884601d', 'category': 'ListItem', 'element_id': 'c7afb3a7eb2cda7dfb6b6ca21f84a62c'}, page_content='Vector database (ChromaDB)'),\n",
       " Document(metadata={'source': 'data/word_files/proposal.docx', 'category_depth': 0, 'file_directory': 'data/word_files', 'filename': 'proposal.docx', 'last_modified': '2025-09-02T14:04:22', 'languages': ['eng'], 'filetype': 'application/vnd.openxmlformats-officedocument.wordprocessingml.document', 'parent_id': '79f776a9342d2b31ac42ee74e884601d', 'category': 'ListItem', 'element_id': 'a5c92389ea9457df2863111aa3643e9f'}, page_content='16GB RAM minimum'),\n",
       " Document(metadata={'source': 'data/word_files/proposal.docx', 'category_depth': 0, 'file_directory': 'data/word_files', 'filename': 'proposal.docx', 'last_modified': '2025-09-02T14:04:22', 'languages': ['eng'], 'filetype': 'application/vnd.openxmlformats-officedocument.wordprocessingml.document', 'category': 'Title', 'element_id': '7da2807bf22f20a489b6af8e62840a5a'}, page_content='Project Phases'),\n",
       " Document(metadata={'source': 'data/word_files/proposal.docx', 'file_directory': 'data/word_files', 'filename': 'proposal.docx', 'last_modified': '2025-09-02T14:04:22', 'text_as_html': '<table><tr><td>Phase</td><td>Duration</td><td>Deliverables</td></tr><tr><td>Research</td><td>2 weeks</td><td>Technology evaluation report</td></tr><tr><td>Development</td><td>8 weeks</td><td>Working RAG prototype</td></tr><tr><td>Testing</td><td>2 weeks</td><td>Performance benchmarks</td></tr></table>', 'languages': ['eng'], 'filetype': 'application/vnd.openxmlformats-officedocument.wordprocessingml.document', 'parent_id': '7da2807bf22f20a489b6af8e62840a5a', 'category': 'Table', 'element_id': 'e551119ba54073b0c9a4ac4d95ac929f'}, page_content='Phase Duration Deliverables Research 2 weeks Technology evaluation report Development 8 weeks Working RAG prototype Testing 2 weeks Performance benchmarks')]"
      ]
     },
     "execution_count": 15,
     "metadata": {},
     "output_type": "execute_result"
    }
   ],
   "source": [
    "unstructured_docs"
   ]
  },
  {
   "cell_type": "markdown",
   "id": "9da3449f",
   "metadata": {},
   "source": [
    "----"
   ]
  },
  {
   "cell_type": "code",
   "execution_count": 17,
   "id": "e08d939c",
   "metadata": {},
   "outputs": [
    {
     "data": {
      "text/plain": [
       "Document(metadata={'source': 'data/word_files/proposal.docx', 'file_directory': 'data/word_files', 'filename': 'proposal.docx', 'last_modified': '2025-09-02T14:04:22', 'text_as_html': '<table><tr><td>Phase</td><td>Duration</td><td>Deliverables</td></tr><tr><td>Research</td><td>2 weeks</td><td>Technology evaluation report</td></tr><tr><td>Development</td><td>8 weeks</td><td>Working RAG prototype</td></tr><tr><td>Testing</td><td>2 weeks</td><td>Performance benchmarks</td></tr></table>', 'languages': ['eng'], 'filetype': 'application/vnd.openxmlformats-officedocument.wordprocessingml.document', 'parent_id': '7da2807bf22f20a489b6af8e62840a5a', 'category': 'Table', 'element_id': 'e551119ba54073b0c9a4ac4d95ac929f'}, page_content='Phase Duration Deliverables Research 2 weeks Technology evaluation report Development 8 weeks Working RAG prototype Testing 2 weeks Performance benchmarks')"
      ]
     },
     "execution_count": 17,
     "metadata": {},
     "output_type": "execute_result"
    }
   ],
   "source": [
    "unstructured_docs[-1]"
   ]
  },
  {
   "cell_type": "code",
   "execution_count": 18,
   "id": "d03f2105",
   "metadata": {},
   "outputs": [
    {
     "data": {
      "text/plain": [
       "{'source': 'data/word_files/proposal.docx',\n",
       " 'file_directory': 'data/word_files',\n",
       " 'filename': 'proposal.docx',\n",
       " 'last_modified': '2025-09-02T14:04:22',\n",
       " 'text_as_html': '<table><tr><td>Phase</td><td>Duration</td><td>Deliverables</td></tr><tr><td>Research</td><td>2 weeks</td><td>Technology evaluation report</td></tr><tr><td>Development</td><td>8 weeks</td><td>Working RAG prototype</td></tr><tr><td>Testing</td><td>2 weeks</td><td>Performance benchmarks</td></tr></table>',\n",
       " 'languages': ['eng'],\n",
       " 'filetype': 'application/vnd.openxmlformats-officedocument.wordprocessingml.document',\n",
       " 'parent_id': '7da2807bf22f20a489b6af8e62840a5a',\n",
       " 'category': 'Table',\n",
       " 'element_id': 'e551119ba54073b0c9a4ac4d95ac929f'}"
      ]
     },
     "execution_count": 18,
     "metadata": {},
     "output_type": "execute_result"
    }
   ],
   "source": [
    "unstructured_docs[-1].metadata"
   ]
  },
  {
   "cell_type": "code",
   "execution_count": 21,
   "id": "cfd19133",
   "metadata": {},
   "outputs": [
    {
     "data": {
      "text/plain": [
       "'<table><tr><td>Phase</td><td>Duration</td><td>Deliverables</td></tr><tr><td>Research</td><td>2 weeks</td><td>Technology evaluation report</td></tr><tr><td>Development</td><td>8 weeks</td><td>Working RAG prototype</td></tr><tr><td>Testing</td><td>2 weeks</td><td>Performance benchmarks</td></tr></table>'"
      ]
     },
     "execution_count": 21,
     "metadata": {},
     "output_type": "execute_result"
    }
   ],
   "source": [
    "unstructured_docs[-1].metadata.get(\"text_as_html\")"
   ]
  },
  {
   "cell_type": "code",
   "execution_count": 22,
   "id": "cb3758d3",
   "metadata": {},
   "outputs": [
    {
     "data": {
      "text/plain": [
       "'Phase Duration Deliverables Research 2 weeks Technology evaluation report Development 8 weeks Working RAG prototype Testing 2 weeks Performance benchmarks'"
      ]
     },
     "execution_count": 22,
     "metadata": {},
     "output_type": "execute_result"
    }
   ],
   "source": [
    "unstructured_docs[-1].page_content"
   ]
  },
  {
   "cell_type": "markdown",
   "id": "3ff07366",
   "metadata": {},
   "source": [
    "----"
   ]
  },
  {
   "cell_type": "markdown",
   "id": "e0d71b38",
   "metadata": {},
   "source": []
  }
 ],
 "metadata": {
  "kernelspec": {
   "display_name": "RAG Pipelines",
   "language": "python",
   "name": "python3"
  },
  "language_info": {
   "codemirror_mode": {
    "name": "ipython",
    "version": 3
   },
   "file_extension": ".py",
   "mimetype": "text/x-python",
   "name": "python",
   "nbconvert_exporter": "python",
   "pygments_lexer": "ipython3",
   "version": "3.13.2"
  }
 },
 "nbformat": 4,
 "nbformat_minor": 5
}
