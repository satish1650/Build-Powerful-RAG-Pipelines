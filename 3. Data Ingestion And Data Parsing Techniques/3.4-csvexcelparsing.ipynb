{
 "cells": [
  {
   "cell_type": "markdown",
   "id": "1c6643b9",
   "metadata": {},
   "source": []
  },
  {
   "cell_type": "markdown",
   "id": "4d2901ba",
   "metadata": {},
   "source": [
    "---\n",
    "# Parsing CSV And Excel Files\n",
    "\n",
    "---"
   ]
  },
  {
   "cell_type": "markdown",
   "id": "6d4796bd",
   "metadata": {},
   "source": [
    "## CSV And Excel Files - Structured Data\n",
    "\n",
    "---"
   ]
  },
  {
   "cell_type": "code",
   "execution_count": 6,
   "id": "ab2ac5b8",
   "metadata": {},
   "outputs": [],
   "source": [
    "import pandas as pd\n",
    "import os"
   ]
  },
  {
   "cell_type": "code",
   "execution_count": 2,
   "id": "a173cd4a",
   "metadata": {},
   "outputs": [],
   "source": [
    "os.makedirs(\"data/structured_files\", exist_ok=True)"
   ]
  },
  {
   "cell_type": "code",
   "execution_count": 5,
   "id": "4145d08b",
   "metadata": {},
   "outputs": [
    {
     "data": {
      "text/plain": [
       "{'Product': ['Laptop', 'Mouse', 'Keyboard', 'Monitor', 'Webcam'],\n",
       " 'Category': ['Electronics',\n",
       "  'Accessories',\n",
       "  'Accessories',\n",
       "  'Electronics',\n",
       "  'Electronics'],\n",
       " 'Price': [999.99, 29.99, 79.99, 299.99, 89.99],\n",
       " 'Stock': [50, 200, 150, 75, 100],\n",
       " 'Description': ['High-performance laptop with 16GB RAM and 512GB SSD',\n",
       "  'Wireless optical mouse with ergonomic design',\n",
       "  'Mechanical keyboard with RGB backlighting',\n",
       "  '27-inch 4K monitor with HDR support',\n",
       "  '1080p webcam with noise cancellation']}"
      ]
     },
     "execution_count": 5,
     "metadata": {},
     "output_type": "execute_result"
    }
   ],
   "source": [
    "# Create sample data\n",
    "data = {\n",
    "    'Product': ['Laptop', 'Mouse', 'Keyboard', 'Monitor', 'Webcam'],\n",
    "    'Category': ['Electronics', 'Accessories', 'Accessories', 'Electronics', 'Electronics'],\n",
    "    'Price': [999.99, 29.99, 79.99, 299.99, 89.99],\n",
    "    'Stock': [50, 200, 150, 75, 100],\n",
    "    'Description': [\n",
    "        'High-performance laptop with 16GB RAM and 512GB SSD',\n",
    "        'Wireless optical mouse with ergonomic design',\n",
    "        'Mechanical keyboard with RGB backlighting',\n",
    "        '27-inch 4K monitor with HDR support',\n",
    "        '1080p webcam with noise cancellation'\n",
    "    ]\n",
    "}\n",
    "data"
   ]
  },
  {
   "cell_type": "markdown",
   "id": "b9347b6f",
   "metadata": {},
   "source": [
    "---"
   ]
  },
  {
   "cell_type": "code",
   "execution_count": null,
   "id": "0bf6554d",
   "metadata": {},
   "outputs": [
    {
     "data": {
      "text/html": [
       "<div>\n",
       "<style scoped>\n",
       "    .dataframe tbody tr th:only-of-type {\n",
       "        vertical-align: middle;\n",
       "    }\n",
       "\n",
       "    .dataframe tbody tr th {\n",
       "        vertical-align: top;\n",
       "    }\n",
       "\n",
       "    .dataframe thead th {\n",
       "        text-align: right;\n",
       "    }\n",
       "</style>\n",
       "<table border=\"1\" class=\"dataframe\">\n",
       "  <thead>\n",
       "    <tr style=\"text-align: right;\">\n",
       "      <th></th>\n",
       "      <th>Product</th>\n",
       "      <th>Category</th>\n",
       "      <th>Price</th>\n",
       "      <th>Stock</th>\n",
       "      <th>Description</th>\n",
       "    </tr>\n",
       "  </thead>\n",
       "  <tbody>\n",
       "    <tr>\n",
       "      <th>0</th>\n",
       "      <td>Laptop</td>\n",
       "      <td>Electronics</td>\n",
       "      <td>999.99</td>\n",
       "      <td>50</td>\n",
       "      <td>High-performance laptop with 16GB RAM and 512G...</td>\n",
       "    </tr>\n",
       "    <tr>\n",
       "      <th>1</th>\n",
       "      <td>Mouse</td>\n",
       "      <td>Accessories</td>\n",
       "      <td>29.99</td>\n",
       "      <td>200</td>\n",
       "      <td>Wireless optical mouse with ergonomic design</td>\n",
       "    </tr>\n",
       "    <tr>\n",
       "      <th>2</th>\n",
       "      <td>Keyboard</td>\n",
       "      <td>Accessories</td>\n",
       "      <td>79.99</td>\n",
       "      <td>150</td>\n",
       "      <td>Mechanical keyboard with RGB backlighting</td>\n",
       "    </tr>\n",
       "    <tr>\n",
       "      <th>3</th>\n",
       "      <td>Monitor</td>\n",
       "      <td>Electronics</td>\n",
       "      <td>299.99</td>\n",
       "      <td>75</td>\n",
       "      <td>27-inch 4K monitor with HDR support</td>\n",
       "    </tr>\n",
       "    <tr>\n",
       "      <th>4</th>\n",
       "      <td>Webcam</td>\n",
       "      <td>Electronics</td>\n",
       "      <td>89.99</td>\n",
       "      <td>100</td>\n",
       "      <td>1080p webcam with noise cancellation</td>\n",
       "    </tr>\n",
       "  </tbody>\n",
       "</table>\n",
       "</div>"
      ],
      "text/plain": [
       "    Product     Category   Price  Stock  \\\n",
       "0    Laptop  Electronics  999.99     50   \n",
       "1     Mouse  Accessories   29.99    200   \n",
       "2  Keyboard  Accessories   79.99    150   \n",
       "3   Monitor  Electronics  299.99     75   \n",
       "4    Webcam  Electronics   89.99    100   \n",
       "\n",
       "                                         Description  \n",
       "0  High-performance laptop with 16GB RAM and 512G...  \n",
       "1       Wireless optical mouse with ergonomic design  \n",
       "2          Mechanical keyboard with RGB backlighting  \n",
       "3                27-inch 4K monitor with HDR support  \n",
       "4               1080p webcam with noise cancellation  "
      ]
     },
     "execution_count": 7,
     "metadata": {},
     "output_type": "execute_result"
    }
   ],
   "source": [
    "# Panda's DataFrame\n",
    "\n",
    "df = pd.DataFrame(data)\n",
    "df"
   ]
  },
  {
   "cell_type": "markdown",
   "id": "1d08f76c",
   "metadata": {},
   "source": [
    "---"
   ]
  },
  {
   "cell_type": "code",
   "execution_count": 8,
   "id": "40009fc5",
   "metadata": {},
   "outputs": [],
   "source": [
    "# Save dataframe as CSV file\n",
    "\n",
    "df.to_csv('data/structured_files/products.csv', index=False)"
   ]
  },
  {
   "cell_type": "code",
   "execution_count": 10,
   "id": "92343dba",
   "metadata": {},
   "outputs": [],
   "source": [
    "# Save as Excel with multiple sheets\n",
    "\n",
    "with pd.ExcelWriter('data/structured_files/inventory.xlsx') as writer:\n",
    "    df.to_excel(writer, sheet_name='Prodcut', index=False)\n",
    "\n",
    "    # Add another sheet\n",
    "    summary_date = {\n",
    "        'Category': ['Electronics', 'Accessories'],\n",
    "        'Total_Items': [3, 2],\n",
    "        'Total_Value': [1389.97, 109.98]\n",
    "    }\n",
    "    pd.DataFrame(summary_date).to_excel(writer, sheet_name=\"Summary\", index=False)"
   ]
  },
  {
   "cell_type": "markdown",
   "id": "93a2562e",
   "metadata": {},
   "source": [
    "---"
   ]
  },
  {
   "cell_type": "markdown",
   "id": "2cfd5c13",
   "metadata": {},
   "source": [
    "## CSV Processing `Click Here` 👉 [CSV](https://python.langchain.com/docs/integrations/document_loaders/csv/)\n",
    "### `Click Here` 👉 [CSVLoader](https://python.langchain.com/api_reference/community/document_loaders/langchain_community.document_loaders.csv_loader.CSVLoader.html)"
   ]
  },
  {
   "cell_type": "markdown",
   "id": "e7d221c0",
   "metadata": {},
   "source": [
    "---"
   ]
  },
  {
   "cell_type": "code",
   "execution_count": 11,
   "id": "683cd145",
   "metadata": {},
   "outputs": [],
   "source": [
    "from langchain_community.document_loaders import CSVLoader"
   ]
  },
  {
   "cell_type": "markdown",
   "id": "ebb08da4",
   "metadata": {},
   "source": [
    "### Method 1: CSVLoader - Each row becomes a document\n"
   ]
  },
  {
   "cell_type": "code",
   "execution_count": 18,
   "id": "7136b2af",
   "metadata": {},
   "outputs": [
    {
     "name": "stdout",
     "output_type": "stream",
     "text": [
      "1️⃣ CSVLoader - Row-based Documents\n",
      "[Document(metadata={'source': 'data/structured_files/products.csv', 'row': 0}, page_content='Product: Laptop\\nCategory: Electronics\\nPrice: 999.99\\nStock: 50\\nDescription: High-performance laptop with 16GB RAM and 512GB SSD'), Document(metadata={'source': 'data/structured_files/products.csv', 'row': 1}, page_content='Product: Mouse\\nCategory: Accessories\\nPrice: 29.99\\nStock: 200\\nDescription: Wireless optical mouse with ergonomic design'), Document(metadata={'source': 'data/structured_files/products.csv', 'row': 2}, page_content='Product: Keyboard\\nCategory: Accessories\\nPrice: 79.99\\nStock: 150\\nDescription: Mechanical keyboard with RGB backlighting'), Document(metadata={'source': 'data/structured_files/products.csv', 'row': 3}, page_content='Product: Monitor\\nCategory: Electronics\\nPrice: 299.99\\nStock: 75\\nDescription: 27-inch 4K monitor with HDR support'), Document(metadata={'source': 'data/structured_files/products.csv', 'row': 4}, page_content='Product: Webcam\\nCategory: Electronics\\nPrice: 89.99\\nStock: 100\\nDescription: 1080p webcam with noise cancellation')]\n",
      "Loaded 5 documents (one per row)\n",
      "\n",
      "First document\n",
      "Content: Product: Laptop\n",
      "Category: Electronics\n",
      "Price: 999.99\n",
      "Stock: 50\n",
      "Description: High-performance laptop with 16GB RAM and 512GB SSD\n",
      "Metadata: {'source': 'data/structured_files/products.csv', 'row': 0}\n"
     ]
    }
   ],
   "source": [
    "from langchain_community.document_loaders import CSVLoader\n",
    "\n",
    "print(\"1️⃣ CSVLoader - Row-based Documents\")\n",
    "\n",
    "csv_loader = CSVLoader(\n",
    "    file_path='data/structured_files/products.csv',\n",
    "    encoding='utf-8',\n",
    "    csv_args={\n",
    "        'delimiter': ',',\n",
    "        'quotechar': '\"'\n",
    "    }\n",
    ")\n",
    "\n",
    "csv_docs = csv_loader.load()\n",
    "print(csv_docs)\n",
    "print(f\"Loaded {len(csv_docs)} documents (one per row)\")\n",
    "print(\"\\nFirst document\")\n",
    "print(f\"Content: {csv_docs[0].page_content}\")\n",
    "print(f\"Metadata: {csv_docs[0].metadata}\")"
   ]
  },
  {
   "cell_type": "markdown",
   "id": "eba6071e",
   "metadata": {},
   "source": [
    "---"
   ]
  },
  {
   "cell_type": "markdown",
   "id": "d55b5233",
   "metadata": {},
   "source": [
    "### Method 2: Custom CSV processing for better control\n"
   ]
  },
  {
   "cell_type": "code",
   "execution_count": 20,
   "id": "31857f2c",
   "metadata": {},
   "outputs": [
    {
     "data": {
      "text/html": [
       "<div>\n",
       "<style scoped>\n",
       "    .dataframe tbody tr th:only-of-type {\n",
       "        vertical-align: middle;\n",
       "    }\n",
       "\n",
       "    .dataframe tbody tr th {\n",
       "        vertical-align: top;\n",
       "    }\n",
       "\n",
       "    .dataframe thead th {\n",
       "        text-align: right;\n",
       "    }\n",
       "</style>\n",
       "<table border=\"1\" class=\"dataframe\">\n",
       "  <thead>\n",
       "    <tr style=\"text-align: right;\">\n",
       "      <th></th>\n",
       "      <th>Product</th>\n",
       "      <th>Category</th>\n",
       "      <th>Price</th>\n",
       "      <th>Stock</th>\n",
       "      <th>Description</th>\n",
       "    </tr>\n",
       "  </thead>\n",
       "  <tbody>\n",
       "    <tr>\n",
       "      <th>0</th>\n",
       "      <td>Laptop</td>\n",
       "      <td>Electronics</td>\n",
       "      <td>999.99</td>\n",
       "      <td>50</td>\n",
       "      <td>High-performance laptop with 16GB RAM and 512G...</td>\n",
       "    </tr>\n",
       "    <tr>\n",
       "      <th>1</th>\n",
       "      <td>Mouse</td>\n",
       "      <td>Accessories</td>\n",
       "      <td>29.99</td>\n",
       "      <td>200</td>\n",
       "      <td>Wireless optical mouse with ergonomic design</td>\n",
       "    </tr>\n",
       "    <tr>\n",
       "      <th>2</th>\n",
       "      <td>Keyboard</td>\n",
       "      <td>Accessories</td>\n",
       "      <td>79.99</td>\n",
       "      <td>150</td>\n",
       "      <td>Mechanical keyboard with RGB backlighting</td>\n",
       "    </tr>\n",
       "    <tr>\n",
       "      <th>3</th>\n",
       "      <td>Monitor</td>\n",
       "      <td>Electronics</td>\n",
       "      <td>299.99</td>\n",
       "      <td>75</td>\n",
       "      <td>27-inch 4K monitor with HDR support</td>\n",
       "    </tr>\n",
       "    <tr>\n",
       "      <th>4</th>\n",
       "      <td>Webcam</td>\n",
       "      <td>Electronics</td>\n",
       "      <td>89.99</td>\n",
       "      <td>100</td>\n",
       "      <td>1080p webcam with noise cancellation</td>\n",
       "    </tr>\n",
       "  </tbody>\n",
       "</table>\n",
       "</div>"
      ],
      "text/plain": [
       "    Product     Category   Price  Stock  \\\n",
       "0    Laptop  Electronics  999.99     50   \n",
       "1     Mouse  Accessories   29.99    200   \n",
       "2  Keyboard  Accessories   79.99    150   \n",
       "3   Monitor  Electronics  299.99     75   \n",
       "4    Webcam  Electronics   89.99    100   \n",
       "\n",
       "                                         Description  \n",
       "0  High-performance laptop with 16GB RAM and 512G...  \n",
       "1       Wireless optical mouse with ergonomic design  \n",
       "2          Mechanical keyboard with RGB backlighting  \n",
       "3                27-inch 4K monitor with HDR support  \n",
       "4               1080p webcam with noise cancellation  "
      ]
     },
     "execution_count": 20,
     "metadata": {},
     "output_type": "execute_result"
    }
   ],
   "source": [
    "df"
   ]
  },
  {
   "cell_type": "code",
   "execution_count": 23,
   "id": "0391fb16",
   "metadata": {},
   "outputs": [
    {
     "name": "stdout",
     "output_type": "stream",
     "text": [
      "\n",
      "2️⃣ Custom CSV Processing\n"
     ]
    }
   ],
   "source": [
    "from typing import List\n",
    "from langchain_core.documents import Document\n",
    "\n",
    "print(\"\\n2️⃣ Custom CSV Processing\")\n",
    "def process_csv_intelligently(filepath: str) -> List[Document]:\n",
    "    \"\"\"Process CSV with intelligent document creation\"\"\"\n",
    "    df = pd.read_csv(filepath)\n",
    "    documents = []\n",
    "\n",
    "    # Strategy 1: One document per row with structured content\n",
    "    for idx, row in df.iterrows():\n",
    "        # Create structured content\n",
    "        content = f\"\"\"Product Information:\n",
    "        Name: {row['Product']}\n",
    "        Category: {row['Category']}\n",
    "        Price: ${row['Price']}\n",
    "        Stock: {row['Stock']} units\n",
    "        Description: {row['Description']}\"\"\"\n",
    "\n",
    "        # Create document with rich metadata\n",
    "        doc = Document(\n",
    "            page_content=content,\n",
    "            metadata={\n",
    "                'source': filepath,\n",
    "                'row_index': idx,\n",
    "                'product_name': row['Product'],\n",
    "                'category': row['Category'],\n",
    "                'price': row['Price'],\n",
    "                'data_type': 'product_info'\n",
    "            }\n",
    "        )\n",
    "        documents.append(doc)\n",
    "\n",
    "    return documents\n"
   ]
  },
  {
   "cell_type": "code",
   "execution_count": 24,
   "id": "cdf0b012",
   "metadata": {},
   "outputs": [
    {
     "data": {
      "text/plain": [
       "[Document(metadata={'source': 'data/structured_files/products.csv', 'row_index': 0, 'product_name': 'Laptop', 'category': 'Electronics', 'price': 999.99, 'data_type': 'product_info'}, page_content='Product Information:\\n        Name: Laptop\\n        Category: Electronics\\n        Price: $999.99\\n        Stock: 50 units\\n        Description: High-performance laptop with 16GB RAM and 512GB SSD'),\n",
       " Document(metadata={'source': 'data/structured_files/products.csv', 'row_index': 1, 'product_name': 'Mouse', 'category': 'Accessories', 'price': 29.99, 'data_type': 'product_info'}, page_content='Product Information:\\n        Name: Mouse\\n        Category: Accessories\\n        Price: $29.99\\n        Stock: 200 units\\n        Description: Wireless optical mouse with ergonomic design'),\n",
       " Document(metadata={'source': 'data/structured_files/products.csv', 'row_index': 2, 'product_name': 'Keyboard', 'category': 'Accessories', 'price': 79.99, 'data_type': 'product_info'}, page_content='Product Information:\\n        Name: Keyboard\\n        Category: Accessories\\n        Price: $79.99\\n        Stock: 150 units\\n        Description: Mechanical keyboard with RGB backlighting'),\n",
       " Document(metadata={'source': 'data/structured_files/products.csv', 'row_index': 3, 'product_name': 'Monitor', 'category': 'Electronics', 'price': 299.99, 'data_type': 'product_info'}, page_content='Product Information:\\n        Name: Monitor\\n        Category: Electronics\\n        Price: $299.99\\n        Stock: 75 units\\n        Description: 27-inch 4K monitor with HDR support'),\n",
       " Document(metadata={'source': 'data/structured_files/products.csv', 'row_index': 4, 'product_name': 'Webcam', 'category': 'Electronics', 'price': 89.99, 'data_type': 'product_info'}, page_content='Product Information:\\n        Name: Webcam\\n        Category: Electronics\\n        Price: $89.99\\n        Stock: 100 units\\n        Description: 1080p webcam with noise cancellation')]"
      ]
     },
     "execution_count": 24,
     "metadata": {},
     "output_type": "execute_result"
    }
   ],
   "source": [
    "process_csv_intelligently('data/structured_files/products.csv')"
   ]
  },
  {
   "cell_type": "markdown",
   "id": "246c9736",
   "metadata": {},
   "source": [
    "---"
   ]
  },
  {
   "cell_type": "markdown",
   "id": "e57010af",
   "metadata": {},
   "source": [
    "## 📊 CSV Processing Strategies"
   ]
  },
  {
   "cell_type": "code",
   "execution_count": null,
   "id": "7fb4b573",
   "metadata": {},
   "outputs": [
    {
     "name": "stdout",
     "output_type": "stream",
     "text": [
      "\n",
      "📊 CSV Processing Strategies:\n",
      "\n",
      "1. Row-based (CSVLoader):\n",
      "  ✅ Simple one-row-one-document\n",
      "  ✅ Good for record lookups\n",
      "  ❌ Loses table context\n",
      "\n",
      "2. Intelligent Processing:\n",
      "  ✅ Preserves relationships\n",
      "  ✅ Creates summaries\n",
      "  ✅ Rich metadata\n",
      "  ✅ Better for Q&A\n"
     ]
    }
   ],
   "source": [
    "print(\"\\n📊 CSV Processing Strategies:\")\n",
    "print(\"\\n1. Row-based (CSVLoader):\")\n",
    "print(\"  ✅ Simple one-row-one-document\")\n",
    "print(\"  ✅ Good for record lookups\")\n",
    "print(\"  ❌ Loses table context\")\n",
    "\n",
    "print(\"\\n2. Intelligent Processing:\")\n",
    "print(\"  ✅ Preserves relationships\")\n",
    "print(\"  ✅ Creates summaries\")\n",
    "print(\"  ✅ Rich metadata\")\n",
    "print(\"  ✅ Better for Q&A\")"
   ]
  },
  {
   "cell_type": "markdown",
   "id": "25f09bc4",
   "metadata": {},
   "source": [
    "---"
   ]
  },
  {
   "cell_type": "markdown",
   "id": "ba1a64dd",
   "metadata": {},
   "source": [
    "## Excel Processing"
   ]
  },
  {
   "cell_type": "markdown",
   "id": "6dd0353f",
   "metadata": {},
   "source": [
    "### Method 1: Using pandas for full control"
   ]
  },
  {
   "cell_type": "code",
   "execution_count": 26,
   "id": "7770e7fd",
   "metadata": {},
   "outputs": [
    {
     "name": "stdout",
     "output_type": "stream",
     "text": [
      "1️⃣ Pandas-based Excel Processing\n"
     ]
    }
   ],
   "source": [
    "from typing import List\n",
    "from langchain_core.documents import Document\n",
    "\n",
    "print(\"1️⃣ Pandas-based Excel Processing\")\n",
    "\n",
    "def process_excel_with_pandas(filepath: str) -> List[Document]:\n",
    "    \"\"\"Process Excel with sheet awarness\"\"\"\n",
    "    documents = []\n",
    "\n",
    "    # Read all sheets\n",
    "    excel_file = pd.ExcelFile(filepath)\n",
    "\n",
    "    for sheet_name in excel_file.sheet_names:\n",
    "        df = pd.read_excel(filepath, sheet_name=sheet_name)\n",
    "\n",
    "        # Create document for each sheet\n",
    "        sheet_content = f\"Sheet: {sheet_name}\\n\"\n",
    "        sheet_content += f\"Columns: {', '.join(df.columns)}\\n\"\n",
    "        sheet_content += f\"Rows: {len(df)}\\n\\n\"\n",
    "        sheet_content += df.to_string(index=False)\n",
    "\n",
    "        doc = Document(\n",
    "            page_content=sheet_content,\n",
    "            metadata={\n",
    "                'source': filepath,\n",
    "                'sheet_name': sheet_name,\n",
    "                'num_rows': len(df),\n",
    "                'num_columns': len(df.columns),\n",
    "                'data_type': 'excel_sheet'\n",
    "            }\n",
    "        )\n",
    "        documents.append(doc)\n",
    "\n",
    "    return documents"
   ]
  },
  {
   "cell_type": "code",
   "execution_count": 27,
   "id": "cb9d30a7",
   "metadata": {},
   "outputs": [
    {
     "name": "stdout",
     "output_type": "stream",
     "text": [
      "Processed 2 sheets\n"
     ]
    }
   ],
   "source": [
    "excel_docs = process_excel_with_pandas('data/structured_files/inventory.xlsx')\n",
    "print(f\"Processed {len(excel_docs)} sheets\")"
   ]
  },
  {
   "cell_type": "code",
   "execution_count": 30,
   "id": "6f0467b4",
   "metadata": {},
   "outputs": [
    {
     "data": {
      "text/plain": [
       "[Document(metadata={'source': 'data/structured_files/inventory.xlsx', 'sheet_name': 'Prodcut', 'num_rows': 5, 'num_columns': 5, 'data_type': 'excel_sheet'}, page_content='Sheet: Prodcut\\nColumns: Product, Category, Price, Stock, Description\\nRows: 5\\n\\n Product    Category  Price  Stock                                         Description\\n  Laptop Electronics 999.99     50 High-performance laptop with 16GB RAM and 512GB SSD\\n   Mouse Accessories  29.99    200        Wireless optical mouse with ergonomic design\\nKeyboard Accessories  79.99    150           Mechanical keyboard with RGB backlighting\\n Monitor Electronics 299.99     75                 27-inch 4K monitor with HDR support\\n  Webcam Electronics  89.99    100                1080p webcam with noise cancellation'),\n",
       " Document(metadata={'source': 'data/structured_files/inventory.xlsx', 'sheet_name': 'Summary', 'num_rows': 2, 'num_columns': 3, 'data_type': 'excel_sheet'}, page_content='Sheet: Summary\\nColumns: Category, Total_Items, Total_Value\\nRows: 2\\n\\n   Category  Total_Items  Total_Value\\nElectronics            3      1389.97\\nAccessories            2       109.98')]"
      ]
     },
     "execution_count": 30,
     "metadata": {},
     "output_type": "execute_result"
    }
   ],
   "source": [
    "excel_docs"
   ]
  },
  {
   "cell_type": "markdown",
   "id": "11e7a4f5",
   "metadata": {},
   "source": [
    "---"
   ]
  },
  {
   "cell_type": "markdown",
   "id": "070f3774",
   "metadata": {},
   "source": [
    "## [Microsoft Excel](https://python.langchain.com/docs/integrations/document_loaders/microsoft_excel/)\n",
    "### Method 2: UnstructuredExcelLoader 👉 [Click Here](https://python.langchain.com/api_reference/community/document_loaders/langchain_community.document_loaders.excel.UnstructuredExcelLoader.html)\n",
    "\n"
   ]
  },
  {
   "cell_type": "code",
   "execution_count": 31,
   "id": "e9eccac6",
   "metadata": {},
   "outputs": [
    {
     "name": "stdout",
     "output_type": "stream",
     "text": [
      "\n",
      "2️⃣ UnstructuredExcelLoader\n",
      "  ℹ️ Requires unstructured library with Excel support\n"
     ]
    }
   ],
   "source": [
    "from langchain_community.document_loaders import UnstructuredExcelLoader\n",
    "\n",
    "print(\"\\n2️⃣ UnstructuredExcelLoader\")\n",
    "try:\n",
    "    excel_loader = UnstructuredExcelLoader(\n",
    "        'data/structured_files/inventory.xlsx',\n",
    "        mode=\"elements\"\n",
    "    )\n",
    "    unstructured_docs = excel_loader.load()\n",
    "    print(\"  ✅ Handles complex Excel features\")\n",
    "    print(\"  ✅ Preserves formatting info\")\n",
    "    print(\"  ❌ Requires unstructured library\")\n",
    "\n",
    "except Exception as ex:\n",
    "    print(\"  ℹ️ Requires unstructured library with Excel support\")"
   ]
  },
  {
   "cell_type": "code",
   "execution_count": 39,
   "id": "eae1646f",
   "metadata": {},
   "outputs": [
    {
     "name": "stdout",
     "output_type": "stream",
     "text": [
      "\n",
      "2️⃣ UnstructuredExcelLoader\n",
      "  ✅ Handles complex Excel features\n",
      "  ✅ Preserves formatting info\n",
      "  ❌ Requires unstructured library\n"
     ]
    }
   ],
   "source": [
    "from langchain_community.document_loaders import UnstructuredExcelLoader\n",
    "\n",
    "print(\"\\n2️⃣ UnstructuredExcelLoader\")\n",
    "try:\n",
    "    excel_loader = UnstructuredExcelLoader(\n",
    "        'data/structured_files/inventory.xlsx',\n",
    "        mode=\"elements\"\n",
    "    )\n",
    "    unstructured_docs = excel_loader.load()\n",
    "    print(\"  ✅ Handles complex Excel features\")\n",
    "    print(\"  ✅ Preserves formatting info\")\n",
    "    print(\"  ❌ Requires unstructured library\")\n",
    "except Exception as e:\n",
    "    print(\"  ℹ️ Requires unstructured library with Excel support\")"
   ]
  },
  {
   "cell_type": "code",
   "execution_count": 40,
   "id": "16ef7169",
   "metadata": {},
   "outputs": [
    {
     "data": {
      "text/plain": [
       "[Document(metadata={'source': 'data/structured_files/inventory.xlsx', 'file_directory': 'data/structured_files', 'filename': 'inventory.xlsx', 'last_modified': '2025-09-15T13:39:30', 'page_name': 'Prodcut', 'page_number': 1, 'text_as_html': '<table><tr><td>Product</td><td>Category</td><td>Price</td><td>Stock</td><td>Description</td></tr><tr><td>Laptop</td><td>Electronics</td><td>999.99</td><td>50</td><td>High-performance laptop with 16GB RAM and 512GB SSD</td></tr><tr><td>Mouse</td><td>Accessories</td><td>29.99</td><td>200</td><td>Wireless optical mouse with ergonomic design</td></tr><tr><td>Keyboard</td><td>Accessories</td><td>79.99</td><td>150</td><td>Mechanical keyboard with RGB backlighting</td></tr><tr><td>Monitor</td><td>Electronics</td><td>299.99</td><td>75</td><td>27-inch 4K monitor with HDR support</td></tr><tr><td>Webcam</td><td>Electronics</td><td>89.99</td><td>100</td><td>1080p webcam with noise cancellation</td></tr></table>', 'languages': ['eng'], 'filetype': 'application/vnd.openxmlformats-officedocument.spreadsheetml.sheet', 'category': 'Table', 'element_id': '6c3514d8bca67e1cbfa020192b595264'}, page_content='Product Category Price Stock Description Laptop Electronics 999.99 50 High-performance laptop with 16GB RAM and 512GB SSD Mouse Accessories 29.99 200 Wireless optical mouse with ergonomic design Keyboard Accessories 79.99 150 Mechanical keyboard with RGB backlighting Monitor Electronics 299.99 75 27-inch 4K monitor with HDR support Webcam Electronics 89.99 100 1080p webcam with noise cancellation'),\n",
       " Document(metadata={'source': 'data/structured_files/inventory.xlsx', 'file_directory': 'data/structured_files', 'filename': 'inventory.xlsx', 'last_modified': '2025-09-15T13:39:30', 'page_name': 'Summary', 'page_number': 2, 'text_as_html': '<table><tr><td>Category</td><td>Total_Items</td><td>Total_Value</td></tr><tr><td>Electronics</td><td>3</td><td>1389.97</td></tr><tr><td>Accessories</td><td>2</td><td>109.98</td></tr></table>', 'languages': ['eng'], 'filetype': 'application/vnd.openxmlformats-officedocument.spreadsheetml.sheet', 'category': 'Table', 'element_id': 'dcf57c06f0490353601c69aaefb62f83'}, page_content='Category Total_Items Total_Value Electronics 3 1389.97 Accessories 2 109.98')]"
      ]
     },
     "execution_count": 40,
     "metadata": {},
     "output_type": "execute_result"
    }
   ],
   "source": [
    "unstructured_docs"
   ]
  },
  {
   "cell_type": "markdown",
   "id": "86b28453",
   "metadata": {},
   "source": [
    "---"
   ]
  },
  {
   "cell_type": "markdown",
   "id": "3de2fe20",
   "metadata": {},
   "source": []
  }
 ],
 "metadata": {
  "kernelspec": {
   "display_name": "RAG Pipelines",
   "language": "python",
   "name": "python3"
  },
  "language_info": {
   "codemirror_mode": {
    "name": "ipython",
    "version": 3
   },
   "file_extension": ".py",
   "mimetype": "text/x-python",
   "name": "python",
   "nbconvert_exporter": "python",
   "pygments_lexer": "ipython3",
   "version": "3.13.2"
  }
 },
 "nbformat": 4,
 "nbformat_minor": 5
}
